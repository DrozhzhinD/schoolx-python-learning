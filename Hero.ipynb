{
 "cells": [
  {
   "cell_type": "code",
   "execution_count": 1,
   "id": "5edfc1ce-ec5b-478c-a1e4-840cd9804cbc",
   "metadata": {},
   "outputs": [],
   "source": [
    "class Character:\n",
    "    def __init__(\n",
    "        self,\n",
    "        weight: float |int,\n",
    "        height: float |int,\n",
    "        name: str | None\n",
    "    ):\n",
    "        self.weight = weight\n",
    "        self.height = height\n",
    "        self.name = name\n",
    "\n",
    "class Hero:\n",
    "    def __init__(self, name, health, strength):\n",
    "        self.name = name\n",
    "        self.health = health\n",
    "        self.strength = strength\n",
    "\n",
    "    def attack(self):\n",
    "        damage = random.randint(1, self.strength)\n",
    "        print(f\"{self.name} attacks with {damage} damage.\")\n",
    "\n",
    "class Villain:\n",
    "    def __init__(self, name, health, agility):\n",
    "        self.name = name\n",
    "        self.health = health\n",
    "        self.agility = agility\n",
    "\n",
    "    def dodge(self):\n",
    "        dodge = random.randint(1, self.agility)\n",
    "        if dodge == 1:\n",
    "            print(f\"{self.name} dodges successfully.\")\n",
    "        else:\n",
    "            print(f\"{self.name}'s dodge fails.\")"
   ]
  },
  {
   "cell_type": "code",
   "execution_count": 5,
   "id": "8d721c03-5bdd-4580-bc0b-3446e3bde48e",
   "metadata": {},
   "outputs": [
    {
     "ename": "TypeError",
     "evalue": "Hero.__init__() missing 3 required positional arguments: 'name', 'health', and 'strength'",
     "output_type": "error",
     "traceback": [
      "\u001b[1;31m---------------------------------------------------------------------------\u001b[0m",
      "\u001b[1;31mTypeError\u001b[0m                                 Traceback (most recent call last)",
      "Cell \u001b[1;32mIn[5], line 1\u001b[0m\n\u001b[1;32m----> 1\u001b[0m Vova \u001b[38;5;241m=\u001b[39m \u001b[43mHero\u001b[49m\u001b[43m(\u001b[49m\u001b[43m)\u001b[49m\n\u001b[0;32m      2\u001b[0m Avov \u001b[38;5;241m=\u001b[39m Villain()\n",
      "\u001b[1;31mTypeError\u001b[0m: Hero.__init__() missing 3 required positional arguments: 'name', 'health', and 'strength'"
     ]
    }
   ],
   "source": [
    "Vova = Hero()\n",
    "Avov = Villain()"
   ]
  },
  {
   "cell_type": "code",
   "execution_count": null,
   "id": "3d234be3-00a9-4d79-9299-2bc9a3ba0949",
   "metadata": {},
   "outputs": [],
   "source": []
  }
 ],
 "metadata": {
  "kernelspec": {
   "display_name": "Python 3 (ipykernel)",
   "language": "python",
   "name": "python3"
  },
  "language_info": {
   "codemirror_mode": {
    "name": "ipython",
    "version": 3
   },
   "file_extension": ".py",
   "mimetype": "text/x-python",
   "name": "python",
   "nbconvert_exporter": "python",
   "pygments_lexer": "ipython3",
   "version": "3.11.5"
  }
 },
 "nbformat": 4,
 "nbformat_minor": 5
}
