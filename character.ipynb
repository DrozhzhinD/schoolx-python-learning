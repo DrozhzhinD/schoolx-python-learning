{
 "cells": [
  {
   "cell_type": "code",
   "execution_count": 5,
   "id": "b837988b-6575-447c-9020-bca0ac95f0df",
   "metadata": {},
   "outputs": [],
   "source": [
    "class Character:    \n",
    "    def think(self):\n",
    "        print(\"I'm thinking\")\n",
    "\n",
    "    def wait(self):\n",
    "        print(\"I wait\")\n",
    "\n",
    "    def trade(self):\n",
    "        print(\"I traded with someone\")\n",
    "\n",
    "    def move(self):\n",
    "        print(\"I moved\")\n",
    "\n",
    "    def __init__(self, name=\"Vasya\",\n",
    "                 power=80,\n",
    "                 agility=0,\n",
    "                 intelligence=10):\n",
    "        self.name=name\n",
    "        self.power = power\n",
    "        self.agility = agility\n",
    "        self.intelligence = intelligence\n",
    "        self.speed = self.agility*2\n",
    "        self.damage = self.power*2"
   ]
  },
  {
   "cell_type": "code",
   "execution_count": 6,
   "id": "c40e59d1-4968-44fe-9817-d9aad15dd3fe",
   "metadata": {},
   "outputs": [],
   "source": [
    "class Hero(Character):\n",
    "    def __init__(self, name=\"Vasiliy\",\n",
    "                 power=100,\n",
    "                 agility=20,\n",
    "                 intelligence=10, kindness=50):\n",
    "        super().__init__(name,power,agility,intelligence)\n",
    "        self.kindness = kindness\n",
    "\n",
    "    def help(self):\n",
    "        print(\"I help\")\n",
    "\n",
    "\n",
    "class Villain(Character):\n",
    "    def __init__(self, name=\"Seva\",\n",
    "                 ph_power=100,\n",
    "                 agility=0,\n",
    "                 intelligence=10,\n",
    "                 evilness=50):\n",
    "        super().__init__(name,ph_power,agility,intelligence)\n",
    "        self.evilness = evilness\n",
    "\n",
    "    def sabotage(self):\n",
    "        print(\"I sabotage\")\n",
    "        "
   ]
  },
  {
   "cell_type": "code",
   "execution_count": 7,
   "id": "6ddeb1c2-cb27-4996-9b0b-fe5fdc7ab0e4",
   "metadata": {},
   "outputs": [],
   "source": [
    "class Superhero(Hero):\n",
    "    def __init__(self, name=\"superhero\",\n",
    "                 ph_power=100,\n",
    "                 agility=0,\n",
    "                 intelligence=10,\n",
    "                 kindness=100):\n",
    "        super().__init__(name,ph_power,agility,intelligence, kindness)\n",
    "    \n",
    "    def fly(self):\n",
    "        print(\"I fly\")\n",
    "\n",
    "class Supervillain(Villain):\n",
    "    def __init__(self, name=\"joker\",\n",
    "                 ph_power=100,\n",
    "                 agility=0,\n",
    "                 intelligence=10,\n",
    "                 evilness=100):\n",
    "        super().__init__(name,ph_power,agility,intelligence,evilness)\n",
    "    \n",
    "    def evil_plan(self):\n",
    "        print(\"This plan will work for sure\")"
   ]
  },
  {
   "cell_type": "code",
   "execution_count": 8,
   "id": "86b01e02-4a45-43fd-9811-958e439b4c69",
   "metadata": {},
   "outputs": [
    {
     "name": "stdout",
     "output_type": "stream",
     "text": [
      "I fly\n",
      "I help\n",
      "This plan will work for sure\n",
      "I sabotage\n",
      "0 0\n",
      "100 200\n"
     ]
    }
   ],
   "source": [
    "s_vill1 = Supervillain(name=\"Doofenshmirtz\")\n",
    "s_vill2 = Supervillain(name=\"\")\n",
    "s_hero1 = Superhero(name=\"Batman\")\n",
    "s_hero2 = Superhero(name=\"Superman\")\n",
    "\n",
    "s_hero1.fly()\n",
    "s_hero2.help()\n",
    "\n",
    "s_vill1.evil_plan()\n",
    "s_vill2.sabotage()\n",
    "\n",
    "print(s_hero1.agility,s_hero1.speed)\n",
    "print(s_vill1.power,s_vill1.damage)"
   ]
  },
  {
   "cell_type": "code",
   "execution_count": null,
   "id": "a4748260-eb69-49b1-8ac3-fa5e3ea87f71",
   "metadata": {},
   "outputs": [],
   "source": []
  },
  {
   "cell_type": "code",
   "execution_count": null,
   "id": "57dc2820-ea43-477c-a5e9-eaae63cdf159",
   "metadata": {},
   "outputs": [],
   "source": []
  }
 ],
 "metadata": {
  "kernelspec": {
   "display_name": "Python 3 (ipykernel)",
   "language": "python",
   "name": "python3"
  },
  "language_info": {
   "codemirror_mode": {
    "name": "ipython",
    "version": 3
   },
   "file_extension": ".py",
   "mimetype": "text/x-python",
   "name": "python",
   "nbconvert_exporter": "python",
   "pygments_lexer": "ipython3",
   "version": "3.10.12"
  }
 },
 "nbformat": 4,
 "nbformat_minor": 5
}
