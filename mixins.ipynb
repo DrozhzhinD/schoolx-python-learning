{
 "cells": [
  {
   "cell_type": "code",
   "execution_count": 1,
   "id": "34c752be-a17f-4326-8946-4a6f7088b6f2",
   "metadata": {},
   "outputs": [],
   "source": [
    "class MixinWalkable:\n",
    "    def walk(self):\n",
    "        print(\"I walk\")\n",
    "\n",
    "class MixinSpeakable:\n",
    "    def speak(self, line):\n",
    "        print(\"I speak\")\n",
    "   \n",
    "class MixinDustable:\n",
    "    def collect_dust(self):\n",
    "        print(\"I'm all dusty\")\n",
    "\n",
    "class MixinReal:\n",
    "    def touch(self):\n",
    "        print(\"You can touch me because I am real\")"
   ]
  },
  {
   "cell_type": "code",
   "execution_count": 2,
   "id": "c1b85fe8-a328-462b-b319-90fe25e69d3f",
   "metadata": {},
   "outputs": [],
   "source": [
    "class Funko(MixinDustable, MixinReal):\n",
    "    pass\n",
    "\n",
    "class Playable(MixinWalkable, MixinSpeakable):\n",
    "    pass"
   ]
  },
  {
   "cell_type": "code",
   "execution_count": 3,
   "id": "959aef3b-c381-4023-8475-e78e111a7512",
   "metadata": {},
   "outputs": [],
   "source": [
    "class Character:\n",
    "    def character(self):\n",
    "        print(\"I'm a character\")\n",
    "\n",
    "\n",
    "class Pudge(Character):\n",
    "    def pudge(self):\n",
    "        print(\"Did someone call a butcher?\")\n",
    "\n",
    "\n",
    "class Harry(Character):\n",
    "    def harry(self):\n",
    "        print(\"Vingardium Leviosa\")\n",
    "\n",
    "\n",
    "class Shrek(Character):\n",
    "    def shrek(self):\n",
    "        print(\"oh hello there\")"
   ]
  },
  {
   "cell_type": "code",
   "execution_count": 4,
   "id": "8456cee7-a455-4ad4-9f88-ac8cf1131040",
   "metadata": {},
   "outputs": [],
   "source": [
    "class FunkoPudge(Pudge, Funko):\n",
    "    pass\n",
    "\n",
    "\n",
    "class PlayablePudge(Pudge, Playable):\n",
    "    pass\n",
    "\n",
    "\n",
    "class FunkoShrek(Shrek, Funko):\n",
    "    pass\n",
    "\n",
    "\n",
    "class PlayableShrek(Shrek, Playable):\n",
    "    pass\n",
    "\n",
    "\n",
    "class FunkoHarry(Harry, Funko):\n",
    "    pass\n",
    "\n",
    "\n",
    "class PlayableHarry(Harry, Playable):\n",
    "    pass\n",
    "\n"
   ]
  },
  {
   "cell_type": "code",
   "execution_count": 5,
   "id": "3a6ad50b-e62c-4006-b097-02ed6cf4e9f5",
   "metadata": {},
   "outputs": [
    {
     "name": "stdout",
     "output_type": "stream",
     "text": [
      "I'm all dusty\n",
      "oh hello there\n",
      "You can touch me because I am real\n",
      "Vingardium Leviosa\n"
     ]
    }
   ],
   "source": [
    "shrek_figurine = FunkoShrek()\n",
    "harry_figurine = FunkoPudge()\n",
    "harry = PlayableHarry()\n",
    "\n",
    "shrek_figurine.collect_dust()\n",
    "shrek_figurine.shrek()\n",
    "\n",
    "harry_figurine.touch()\n",
    "harry.harry()"
   ]
  },
  {
   "cell_type": "code",
   "execution_count": null,
   "id": "404a95c7-b646-4f85-b711-9220a2440bf4",
   "metadata": {},
   "outputs": [],
   "source": []
  }
 ],
 "metadata": {
  "kernelspec": {
   "display_name": "Python 3 (ipykernel)",
   "language": "python",
   "name": "python3"
  },
  "language_info": {
   "codemirror_mode": {
    "name": "ipython",
    "version": 3
   },
   "file_extension": ".py",
   "mimetype": "text/x-python",
   "name": "python",
   "nbconvert_exporter": "python",
   "pygments_lexer": "ipython3",
   "version": "3.11.5"
  }
 },
 "nbformat": 4,
 "nbformat_minor": 5
}
